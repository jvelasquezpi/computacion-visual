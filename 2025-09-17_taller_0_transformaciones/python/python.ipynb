{
  "cells": [
    {
      "cell_type": "markdown",
      "source": [
        "## Instalamos Imgeio"
      ],
      "metadata": {
        "id": "GkpWxS-AXT-b"
      }
    },
    {
      "cell_type": "code",
      "execution_count": 1,
      "metadata": {
        "colab": {
          "base_uri": "https://localhost:8080/"
        },
        "id": "Jl8GfA-qJnFI",
        "outputId": "34ee4c60-34d2-4e9d-d941-b30d31965870"
      },
      "outputs": [
        {
          "output_type": "stream",
          "name": "stdout",
          "text": [
            "Requirement already satisfied: imageio in /usr/local/lib/python3.12/dist-packages (2.37.0)\n",
            "Requirement already satisfied: numpy in /usr/local/lib/python3.12/dist-packages (from imageio) (2.0.2)\n",
            "Requirement already satisfied: pillow>=8.3.2 in /usr/local/lib/python3.12/dist-packages (from imageio) (11.3.0)\n"
          ]
        }
      ],
      "source": [
        "!pip install imageio"
      ]
    },
    {
      "cell_type": "code",
      "execution_count": 3,
      "metadata": {
        "colab": {
          "base_uri": "https://localhost:8080/"
        },
        "id": "-eP4NQmHRKEb",
        "outputId": "2501a594-1fa7-441f-a1b9-06ef57d377a8"
      },
      "outputs": [
        {
          "output_type": "stream",
          "name": "stderr",
          "text": [
            "/tmp/ipython-input-1171846125.py:64: UserWarning: Setting the 'color' property will override the edgecolor or facecolor properties.\n",
            "  poly = Polygon(transformed.T, closed=True, color='skyblue', edgecolor='navy')\n"
          ]
        }
      ],
      "source": [
        "import numpy as np\n",
        "import matplotlib.pyplot as plt\n",
        "import imageio\n",
        "from matplotlib.patches import Polygon\n",
        "\n",
        "figura = np.array([\n",
        "    [0, 0],\n",
        "    [1, 0],\n",
        "    [0.5, 1]\n",
        "]).T\n",
        "\n",
        "\n",
        "frames = 60\n",
        "angle_max = 2 * np.pi\n",
        "scale_max = 2\n",
        "tx_max, ty_max = 2, 1\n",
        "\n",
        "# Lista de imágenes para el GIF\n",
        "imagenes = []\n",
        "\n",
        "for frame in range(frames):\n",
        "    t = frame / (frames - 1)\n",
        "\n",
        "    # Parámetros interpolados\n",
        "    angle = t * angle_max\n",
        "    scale = 1 + t * (scale_max - 1)\n",
        "    tx = t * tx_max\n",
        "    ty = t * ty_max\n",
        "\n",
        "    # Matrices de transformación\n",
        "    S = np.array([\n",
        "        [scale, 0,     0],\n",
        "        [0,     scale, 0],\n",
        "        [0,     0,     1]\n",
        "    ])\n",
        "\n",
        "    R = np.array([\n",
        "        [np.cos(angle), -np.sin(angle), 0],\n",
        "        [np.sin(angle),  np.cos(angle), 0],\n",
        "        [0,              0,             1]\n",
        "    ])\n",
        "\n",
        "    T = np.array([\n",
        "        [1, 0, tx],\n",
        "        [0, 1, ty],\n",
        "        [0, 0, 1 ]\n",
        "    ])\n",
        "\n",
        "\n",
        "    M = T @ R @ S\n",
        "\n",
        "\n",
        "    homog_figura = np.vstack((figura, np.ones((1, figura.shape[1]))))  # 3x3\n",
        "\n",
        "    transformed = M @ homog_figura\n",
        "    transformed = transformed[:2, :]\n",
        "\n",
        "    fig, ax = plt.subplots()\n",
        "    ax.set_xlim(-2, 4)\n",
        "    ax.set_ylim(-2, 4)\n",
        "    ax.set_aspect('equal')\n",
        "    ax.set_title(f'Frame {frame+1}/{frames}')\n",
        "\n",
        "    poly = Polygon(transformed.T, closed=True, color='skyblue', edgecolor='navy')\n",
        "    ax.add_patch(poly)\n",
        "\n",
        "    matrix_str = np.array2string(M, precision=2, suppress_small=True)\n",
        "    ax.text(-1.5, -1.5, f\"Matriz:\\n{matrix_str}\", fontsize=7, family='monospace')\n",
        "\n",
        "    filename = f'frame_{frame:03d}.png'\n",
        "    plt.savefig(filename)\n",
        "    imagenes.append(imageio.v2.imread(filename))\n",
        "    plt.close()\n",
        "\n"
      ]
    },
    {
      "cell_type": "markdown",
      "source": [
        "## Guardamos el Gif"
      ],
      "metadata": {
        "id": "0i9nwNRhZVis"
      }
    },
    {
      "cell_type": "code",
      "source": [
        "# Guardar el GIF\n",
        "imageio.mimsave('transformacion.gif', imagenes, fps=15)\n",
        "print(\"GIF guardado\")\n"
      ],
      "metadata": {
        "colab": {
          "base_uri": "https://localhost:8080/"
        },
        "id": "EnkJUKEGZVJI",
        "outputId": "311e2d48-e300-4e3f-ff28-acfc6476a51e"
      },
      "execution_count": 4,
      "outputs": [
        {
          "output_type": "stream",
          "name": "stdout",
          "text": [
            "GIF guardado\n"
          ]
        }
      ]
    }
  ],
  "metadata": {
    "colab": {
      "provenance": []
    },
    "kernelspec": {
      "display_name": "Python 3",
      "name": "python3"
    },
    "language_info": {
      "name": "python"
    }
  },
  "nbformat": 4,
  "nbformat_minor": 0
}